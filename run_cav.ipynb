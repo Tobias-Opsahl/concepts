{
 "cells": [
  {
   "attachments": {},
   "cell_type": "markdown",
   "metadata": {},
   "source": [
    "# Example run of some early concept activation vector (CAV) stuff\n",
    "\n",
    "This file contains some examples of how to run some of the stuff that is made so far. This is still extremely early version, so not that much effort is put into it yet."
   ]
  },
  {
   "cell_type": "code",
   "execution_count": 4,
   "metadata": {},
   "outputs": [
    {
     "name": "stdout",
     "output_type": "stream",
     "text": [
      "The autoreload extension is already loaded. To reload it, use:\n",
      "  %reload_ext autoreload\n"
     ]
    }
   ],
   "source": [
    "# Make notebook update imports automatically if they are changed\n",
    "%load_ext autoreload  \n",
    "%autoreload 2"
   ]
  },
  {
   "cell_type": "code",
   "execution_count": null,
   "metadata": {},
   "outputs": [],
   "source": [
    "import numpy as np\n",
    "import matplotlib.pyplot as plt\n",
    "import tensorflow as tf\n",
    "from data_loaders import load_concept_data\n",
    "from cav import CAV"
   ]
  },
  {
   "attachments": {},
   "cell_type": "markdown",
   "metadata": {},
   "source": [
    "## CAV\n",
    "\n",
    "We will make a model and rate its concept activation.\n",
    "To access the dataset, download the MNIST data () and run `data_generator.py`. They are not uploaded because of copyright stuff."
   ]
  },
  {
   "cell_type": "code",
   "execution_count": 6,
   "metadata": {},
   "outputs": [],
   "source": [
    "# Load and preprocess data\n",
    "# NOTE: You will have to download MNIST dataset and run \"data_generator.py\" to generate these datasets.\n",
    "# It should only run for a couple second, but the data might be copyrighted.\n",
    "(x_train_sat, y_train_sat, c_train_sat), (x_val_sat, y_val_sat, c_val_sat), (x_test_sat, y_test_sat, c_test_sat) = \\\n",
    "    load_concept_data(\"partial95_10.pkl\", validation_split=True, normalize=True, reshape=True)\n",
    "\n",
    "c_train_sat[\"saturated2\"] = c_train_sat[\"saturated\"]  # Add extra concept for testing cav\n",
    "c_val_sat[\"saturated2\"] = c_val_sat[\"saturated\"]  # This is the exact same concept, but shows that the CAV class can ...\n",
    "c_test_sat[\"saturated2\"] = c_test_sat[\"saturated\"]  # Have multiple concepts"
   ]
  },
  {
   "attachments": {},
   "cell_type": "markdown",
   "metadata": {},
   "source": [
    "### Define some models\n",
    "\n",
    "Lets make two models, and wrap them in a function so that they can be easily reset. The v2 model has a bottleneck layer before the output which makes it more difficult to encode the labels."
   ]
  },
  {
   "cell_type": "code",
   "execution_count": 26,
   "metadata": {},
   "outputs": [
    {
     "name": "stdout",
     "output_type": "stream",
     "text": [
      "Model: \"sequential_33\"\n",
      "_________________________________________________________________\n",
      " Layer (type)                Output Shape              Param #   \n",
      "=================================================================\n",
      " conv1 (Conv2D)              (None, 26, 26, 16)        160       \n",
      "                                                                 \n",
      " max_pool1 (MaxPooling2D)    (None, 13, 13, 16)        0         \n",
      "                                                                 \n",
      " flatten1 (Flatten)          (None, 2704)              0         \n",
      "                                                                 \n",
      " dense1 (Dense)              (None, 16)                43280     \n",
      "                                                                 \n",
      " relu2 (Activation)          (None, 16)                0         \n",
      "                                                                 \n",
      " dense2 (Dense)              (None, 6)                 102       \n",
      "                                                                 \n",
      " relu3 (Activation)          (None, 6)                 0         \n",
      "                                                                 \n",
      " dense3 (Dense)              (None, 10)                70        \n",
      "                                                                 \n",
      "=================================================================\n",
      "Total params: 43,612\n",
      "Trainable params: 43,612\n",
      "Non-trainable params: 0\n",
      "_________________________________________________________________\n"
     ]
    }
   ],
   "source": [
    "def load_model_10_v1():\n",
    "    \"\"\" Load and returns model so that it can be reset easily \"\"\"\n",
    "    model_10 = tf.keras.Sequential([\n",
    "        tf.keras.layers.Conv2D(16, (3, 3), activation=\"relu\", input_shape=(28, 28, 1), name=\"conv1\"),\n",
    "        tf.keras.layers.MaxPooling2D((2, 2), name=\"max_pool1\"),\n",
    "        tf.keras.layers.Flatten(name=\"flatten1\"),\n",
    "        tf.keras.layers.Dense(16, activation=None, name=\"dense1\"),\n",
    "        tf.keras.layers.Activation(\"relu\", name=\"relu2\"),\n",
    "        tf.keras.layers.Dense(10, activation=\"softmax\", name=\"dense2\")\n",
    "    ])\n",
    "\n",
    "    model_10.compile(optimizer=tf.keras.optimizers.Adam(learning_rate=0.0001),\n",
    "                    loss = tf.keras.losses.SparseCategoricalCrossentropy(from_logits=False),\n",
    "                    metrics=[\"accuracy\"])\n",
    "    return model_10\n",
    "\n",
    "def load_model_10_v2():\n",
    "    \"\"\" Load and returns model so that it can be reset easily \"\"\"\n",
    "    model_10 = tf.keras.Sequential([\n",
    "        tf.keras.layers.Conv2D(16, (3, 3), activation=\"relu\", input_shape=(28, 28, 1), name=\"conv1\"),\n",
    "        tf.keras.layers.MaxPooling2D((2, 2), name=\"max_pool1\"),\n",
    "        tf.keras.layers.Flatten(name=\"flatten1\"),\n",
    "        tf.keras.layers.Dense(16, activation=None, name=\"dense1\"),\n",
    "        tf.keras.layers.Activation(\"relu\", name=\"relu2\"),\n",
    "        tf.keras.layers.Dense(6, activation=None, name=\"dense2\"),\n",
    "        tf.keras.layers.Activation(\"relu\", name=\"relu3\"),\n",
    "        tf.keras.layers.Dense(10, activation=\"softmax\", name=\"dense3\")\n",
    "    ])\n",
    "\n",
    "    model_10.compile(optimizer=tf.keras.optimizers.Adam(learning_rate=0.0001),\n",
    "                    loss = tf.keras.losses.SparseCategoricalCrossentropy(from_logits=False),\n",
    "                    metrics=[\"accuracy\"])\n",
    "    return model_10\n",
    "\n",
    "model1 = load_model_10_v1()\n",
    "model2 = load_model_10_v2()\n",
    "# model1.summary()\n",
    "model2.summary()"
   ]
  },
  {
   "cell_type": "code",
   "execution_count": 27,
   "metadata": {},
   "outputs": [
    {
     "name": "stdout",
     "output_type": "stream",
     "text": [
      "Epoch number 0:\n",
      "model1:\n",
      "375/375 [==============================] - 3s 8ms/step - loss: 3.8204 - accuracy: 0.2073\n",
      "375/375 [==============================] - 1s 3ms/step\n",
      "relu2 saturated\n",
      "relu2 saturated2\n",
      "model2\n",
      "375/375 [==============================] - 4s 8ms/step - loss: 2.4661 - accuracy: 0.1613\n",
      "375/375 [==============================] - 1s 3ms/step\n",
      "375/375 [==============================] - 1s 3ms/step\n",
      "relu2 saturated\n",
      "relu3 saturated\n",
      "Epoch number 1:\n",
      "model1:\n",
      "375/375 [==============================] - 3s 7ms/step - loss: 1.8301 - accuracy: 0.3446\n",
      "375/375 [==============================] - 1s 4ms/step\n",
      "relu2 saturated\n",
      "relu2 saturated2\n",
      "model2\n",
      "375/375 [==============================] - 4s 9ms/step - loss: 1.7936 - accuracy: 0.3064\n",
      "375/375 [==============================] - 1s 3ms/step\n",
      "375/375 [==============================] - 1s 4ms/step\n",
      "relu2 saturated\n",
      "relu3 saturated\n",
      "Epoch number 2:\n",
      "model1:\n",
      " 31/375 [=>............................] - ETA: 3s - loss: 1.6511 - accuracy: 0.4279"
     ]
    }
   ],
   "source": [
    "np.random.seed(57)\n",
    "model1 = load_model_10_v1()\n",
    "model2 = load_model_10_v2()\n",
    "\n",
    "n_epochs = 5\n",
    "cavs1 = np.zeros(n_epochs)\n",
    "cavs2 = np.zeros(n_epochs)\n",
    "cavs3 = np.zeros(n_epochs)\n",
    "\n",
    "for i in range(n_epochs):\n",
    "    print(f\"Epoch number {i}:\")\n",
    "    print(\"model1:\")\n",
    "    model1.fit(x_train_sat, y_train_sat, epochs=1, batch_size=128)\n",
    "    cav1 = CAV(model1, [\"relu2\"])\n",
    "    acc1 = cav1.train(x_train_sat, c_train_sat)\n",
    "    cavs1[i] = acc1[\"relu2\"][\"saturated\"]\n",
    "\n",
    "    print(\"model2\")\n",
    "    model2.fit(x_train_sat, y_train_sat, epochs=1, batch_size=128)\n",
    "    cav2 = CAV(model2, [\"relu2\", \"relu3\"])\n",
    "    acc2 = cav2.train(x_train_sat, c_train_sat, [\"saturated\"])\n",
    "    cavs2[i] = acc2[\"relu2\"][\"saturated\"]\n",
    "    cavs3[i] = acc2[\"relu3\"][\"saturated\"]"
   ]
  },
  {
   "attachments": {},
   "cell_type": "markdown",
   "metadata": {},
   "source": []
  },
  {
   "cell_type": "code",
   "execution_count": 25,
   "metadata": {},
   "outputs": [
    {
     "data": {
      "image/png": "[encoded data removed]",
      "text/plain": [
       "<Figure size 640x480 with 1 Axes>"
      ]
     },
     "metadata": {},
     "output_type": "display_data"
    }
   ],
   "source": [
    "x_values = np.arange(n_epochs)\n",
    "plt.plot(x_values, cavs1, label=\"Model1\")\n",
    "plt.plot(x_values, cavs2, label=\"Model2, relu2\")\n",
    "plt.plot(x_values, cavs3, label=\"Model2, relu3\")\n",
    "plt.title(\"Early Cav stuff\")\n",
    "plt.xlabel(\"epochs\")\n",
    "plt.ylabel(\"concept accuracy\")\n",
    "plt.legend()\n",
    "plt.show()"
   ]
  },
  {
   "cell_type": "code",
   "execution_count": null,
   "metadata": {},
   "outputs": [],
   "source": []
  }
 ],
 "metadata": {
  "kernelspec": {
   "display_name": "ML-Kindergarten",
   "language": "python",
   "name": "python3"
  },
  "language_info": {
   "codemirror_mode": {
    "name": "ipython",
    "version": 3
   },
   "file_extension": ".py",
   "mimetype": "text/x-python",
   "name": "python",
   "nbconvert_exporter": "python",
   "pygments_lexer": "ipython3",
   "version": "3.10.11"
  },
  "orig_nbformat": 4
 },
 "nbformat": 4,
 "nbformat_minor": 2
}
